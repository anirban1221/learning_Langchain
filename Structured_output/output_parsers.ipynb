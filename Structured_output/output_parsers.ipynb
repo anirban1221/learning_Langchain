{
 "cells": [
  {
   "cell_type": "code",
   "execution_count": 2,
   "metadata": {},
   "outputs": [],
   "source": [
    "from langchain_huggingface import ChatHuggingFace,HuggingFaceEndpoint\n",
    "from dotenv import load_dotenv"
   ]
  },
  {
   "cell_type": "code",
   "execution_count": 7,
   "metadata": {},
   "outputs": [],
   "source": [
    "import os\n",
    "\n",
    "load_dotenv()\n",
    "hf_token = os.getenv(\"HUGGINGFACEHUB_ACCESS_TOKEN\")\n",
    "\n",
    "llm = HuggingFaceEndpoint(\n",
    "    repo_id=\"mistralai/Mixtral-8x7B-Instruct-v0.1\", \n",
    "    task=\"text-generation\",\n",
    "    huggingfacehub_api_token=hf_token\n",
    ")\n",
    "\n",
    "model = ChatHuggingFace(llm=llm)"
   ]
  },
  {
   "cell_type": "code",
   "execution_count": 9,
   "metadata": {},
   "outputs": [
    {
     "name": "stdout",
     "output_type": "stream",
     "text": [
      " Cristiano Ronaldo is considered one of the greatest footballers in history, known for his exceptional talent and skill. He began his career with local club Andorinha at seven and quickly rose to prominence, joining Sporting CP and then Manchester United for a record fee. Ronaldo won multiple Premier League titles and the UEFA Champions League with Manchester United, before transferring to Real Madrid for a world-record fee. He established himself as one of the greatest players in Real Madrid's history, winning numerous titles and awards. Off the pitch, Ronaldo is known for his philanthropy and charitable work. He currently plays for Manchester United and has won multiple awards and titles throughout his career, including FIFA World Player of the Year and the Ballon d'Or.\n"
     ]
    }
   ],
   "source": [
    "from langchain_core.prompts import PromptTemplate\n",
    "\n",
    "#1st prompt->detailed report\n",
    "template1=PromptTemplate(\n",
    "    template='write a detailed report on {topic}',\n",
    "    input_variables=['topic']\n",
    ")\n",
    "\n",
    "\n",
    "# 2nd prompt->summary\n",
    "template2=PromptTemplate(\n",
    "    template=\"write a 4 line summary on the following text. /n {text}\",\n",
    "    input_variables=['text']\n",
    ")\n",
    "\n",
    "prompt1=template1.invoke({'topic':'Christiano Ronaldo'})\n",
    "result=model.invoke(prompt1)\n",
    "\n",
    "prompt2=template2.invoke({'text':result.content})\n",
    "result1=model.invoke(prompt2)\n",
    "print(result1.content)\n",
    "\n"
   ]
  },
  {
   "cell_type": "markdown",
   "metadata": {},
   "source": [
    "## String Output Parser"
   ]
  },
  {
   "cell_type": "code",
   "execution_count": 10,
   "metadata": {},
   "outputs": [
    {
     "name": "stdout",
     "output_type": "stream",
     "text": [
      " Lionel Messi is a highly accomplished Argentine football player, often considered one of the best in history. He began playing at a young age and joined Barcelona as a professional in 2004, where he has won numerous awards and led the team to many titles. Messi has scored over 750 career goals and has won six Ballon d'Or awards. He has also played a significant role for the Argentine national team, although he has yet to win a major international title with them. Off the field, Messi is known for his humility and charity work. His skills and legacy have solidified his place as one of the greatest footballers of all time.\n"
     ]
    }
   ],
   "source": [
    "## now let's use StrOutputParser\n",
    "from langchain_core.output_parsers import StrOutputParser\n",
    "\n",
    "parser=StrOutputParser()\n",
    "chain=template1 | model | parser | template2 | model | parser\n",
    "result2=chain.invoke({'topic':'Lionel Messi'})\n",
    "print(result2)"
   ]
  },
  {
   "cell_type": "markdown",
   "metadata": {},
   "source": [
    "## Json output parsers"
   ]
  },
  {
   "cell_type": "code",
   "execution_count": 20,
   "metadata": {},
   "outputs": [
    {
     "name": "stdout",
     "output_type": "stream",
     "text": [
      "{'name': 'Oliver Whittaker', 'age': 35, 'city': 'New York'}\n"
     ]
    }
   ],
   "source": [
    "from langchain_core.output_parsers import JsonOutputParser\n",
    "model=ChatHuggingFace(llm=llm)\n",
    "parser=JsonOutputParser()\n",
    "\n",
    "template=PromptTemplate(\n",
    "    template='give me the name, age and city of a fictional person \\n {format_instruction}',\n",
    "    input_variables=[],\n",
    "    partial_variables={'format_instruction':parser.get_format_instructions()}\n",
    "\n",
    ")\n",
    "\n",
    "# prompt=template.format()\n",
    "# result=model.invoke(prompt)\n",
    "# final_result=parser.parse(result.content)\n",
    "# print(final_result['name'])\n",
    "# print(type(final_result))\n",
    "\n",
    "chain=template | model | parser\n",
    "result=chain.invoke({})\n",
    "print(result)"
   ]
  },
  {
   "cell_type": "markdown",
   "metadata": {},
   "source": [
    "## structured Output Parser"
   ]
  },
  {
   "cell_type": "code",
   "execution_count": 24,
   "metadata": {},
   "outputs": [],
   "source": [
    "from langchain.output_parsers import StructuredOutputParser, ResponseSchema\n",
    "\n",
    "model=ChatHuggingFace(llm=llm)\n",
    "\n",
    "schema=[\n",
    "    ResponseSchema(name='fact_1', description='fact 1 about the topic'),\n",
    "    ResponseSchema(name='fact_2', description='fact 2 about the topic'),\n",
    "    ResponseSchema(name='fact_3', description='fact 3 about the topic')\n",
    "]\n",
    "parser=StructuredOutputParser.from_response_schemas(schema)\n",
    "template=PromptTemplate(\n",
    "    template='Give 3 facts about the {topic} \\n {format_instruction}',\n",
    "    input_variables=['topic'],\n",
    "    partial_variables={'format_instruction':parser.get_format_instructions()}\n",
    ")\n",
    "\n",
    "prompt=template.invoke({'topic':'Mohunbagan'})\n",
    "result=model.invoke(prompt)\n",
    "\n",
    "# final_result=parser.parse(result.content)\n",
    "# print(final_result)"
   ]
  },
  {
   "cell_type": "code",
   "execution_count": 26,
   "metadata": {},
   "outputs": [
    {
     "name": "stdout",
     "output_type": "stream",
     "text": [
      "{'fact_1': 'Mohun Bagan is a professional football club based in Kolkata, India, and is one of the oldest football clubs in Asia, having been established in 1889.', 'fact_2': 'Mohun Bagan is a highly successful club, with numerous trophies to their name, including the I-League, the National Football League, and the Federation Cup.', 'fact_3': 'Mohun Bagan made history in 1911 by becoming the first Indian team to win the IFA Shield, which was previously dominated by British teams. This victory is considered a landmark moment in Indian sports history.'}\n"
     ]
    }
   ],
   "source": [
    "final_result=parser.parse(result.content)\n",
    "print(final_result)"
   ]
  },
  {
   "cell_type": "code",
   "execution_count": 28,
   "metadata": {},
   "outputs": [
    {
     "name": "stdout",
     "output_type": "stream",
     "text": [
      "{'fact_1': 'East Bengal Football Club, commonly known as East Bengal or EB, is a professional football club based in Kolkata, West Bengal, India.', 'fact_2': 'Founded in 1920, it is one of the oldest football clubs in India and has a rich history and tradition in Indian football.', 'fact_3': 'East Bengal has won numerous domestic and international titles, including the I-League, the National Football League (NFL), the Federation Cup, and the AFC Cup.'}\n"
     ]
    }
   ],
   "source": [
    "from langchain.output_parsers import StructuredOutputParser, ResponseSchema\n",
    "\n",
    "model=ChatHuggingFace(llm=llm)\n",
    "\n",
    "schema=[\n",
    "    ResponseSchema(name='fact_1', description='fact 1 about the topic'),\n",
    "    ResponseSchema(name='fact_2', description='fact 2 about the topic'),\n",
    "    ResponseSchema(name='fact_3', description='fact 3 about the topic')\n",
    "]\n",
    "parser=StructuredOutputParser.from_response_schemas(schema)\n",
    "template=PromptTemplate(\n",
    "    template='Give 3 facts about the {topic} \\n {format_instruction}',\n",
    "    input_variables=['topic'],\n",
    "    partial_variables={'format_instruction':parser.get_format_instructions()}\n",
    ")\n",
    "chain= template|model|parser\n",
    "result=chain.invoke({'topic':'east bengal football club'})\n",
    "print(result)"
   ]
  },
  {
   "cell_type": "markdown",
   "metadata": {},
   "source": [
    "## pydantic output parser"
   ]
  },
  {
   "cell_type": "code",
   "execution_count": 32,
   "metadata": {},
   "outputs": [
    {
     "name": "stdout",
     "output_type": "stream",
     "text": [
      " {\n",
      "\"name\": \"Apurva Singh\",\n",
      "\"age\": 32,\n",
      "\"city\": \"Bangalore\"\n",
      "}\n"
     ]
    }
   ],
   "source": [
    "from langchain_core.output_parsers import PydanticOutputParser\n",
    "from pydantic import BaseModel, Field\n",
    "\n",
    "model=ChatHuggingFace(llm=llm)\n",
    "\n",
    "class Person(BaseModel):\n",
    "    name:str=Field(description='Name of the person')\n",
    "    age:int=Field(description='age of the person')\n",
    "    city:str=Field(description='name of the city where the person stays')\n",
    "\n",
    "parser=PydanticOutputParser(pydantic_object=Person)\n",
    "\n",
    "template=PromptTemplate(\n",
    "    template='Generate the name, age and city of a fictional {place} person \\n {format_instruction}',\n",
    "    partial_variables={'format_instruction':parser.get_format_instructions()}\n",
    "\n",
    ")\n",
    "prompt=template.invoke({'place':'Indian'})\n",
    "result=model.invoke(prompt)\n",
    "print(result.content)"
   ]
  },
  {
   "cell_type": "code",
   "execution_count": 34,
   "metadata": {},
   "outputs": [
    {
     "name": "stdout",
     "output_type": "stream",
     "text": [
      "name='Bishal Khanal' age=35 city='Kathmandu'\n"
     ]
    }
   ],
   "source": [
    "class Person(BaseModel):\n",
    "    name:str=Field(description='Name of the person')\n",
    "    age:int=Field(description='age of the person')\n",
    "    city:str=Field(description='name of the city where the person stays')\n",
    "\n",
    "parser=PydanticOutputParser(pydantic_object=Person)\n",
    "\n",
    "template=PromptTemplate(\n",
    "    template='Generate the name, age and city of a fictional {place} person \\n {format_instruction}',\n",
    "    partial_variables={'format_instruction':parser.get_format_instructions()}\n",
    "\n",
    ")\n",
    "chain=template|model|parser\n",
    "final_result=chain.invoke({'place':'Nepali'})\n",
    "print(final_result)\n"
   ]
  },
  {
   "cell_type": "code",
   "execution_count": null,
   "metadata": {},
   "outputs": [],
   "source": []
  }
 ],
 "metadata": {
  "kernelspec": {
   "display_name": "venv_genai",
   "language": "python",
   "name": "python3"
  },
  "language_info": {
   "codemirror_mode": {
    "name": "ipython",
    "version": 3
   },
   "file_extension": ".py",
   "mimetype": "text/x-python",
   "name": "python",
   "nbconvert_exporter": "python",
   "pygments_lexer": "ipython3",
   "version": "3.11.7"
  }
 },
 "nbformat": 4,
 "nbformat_minor": 2
}
