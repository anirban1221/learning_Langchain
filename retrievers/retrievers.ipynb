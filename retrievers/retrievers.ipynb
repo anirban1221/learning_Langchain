{
 "cells": [
  {
   "cell_type": "code",
   "execution_count": 1,
   "metadata": {},
   "outputs": [
    {
     "data": {
      "text/plain": [
       "True"
      ]
     },
     "execution_count": 1,
     "metadata": {},
     "output_type": "execute_result"
    }
   ],
   "source": [
    "import os\n",
    "from dotenv import load_dotenv\n",
    "from langchain_huggingface import HuggingFaceEmbeddings\n",
    "load_dotenv()"
   ]
  },
  {
   "cell_type": "code",
   "execution_count": 15,
   "metadata": {},
   "outputs": [],
   "source": [
    "import os\n",
    "os.environ[\"OPENAI_API_KEY\"] = \"sk-\""
   ]
  },
  {
   "cell_type": "code",
   "execution_count": 4,
   "metadata": {},
   "outputs": [
    {
     "name": "stdout",
     "output_type": "stream",
     "text": [
      "Collecting wikipedia\n",
      "  Using cached wikipedia-1.4.0.tar.gz (27 kB)\n",
      "  Installing build dependencies: started\n",
      "  Installing build dependencies: finished with status 'done'\n",
      "  Getting requirements to build wheel: started\n",
      "  Getting requirements to build wheel: finished with status 'done'\n",
      "  Preparing metadata (pyproject.toml): started\n",
      "  Preparing metadata (pyproject.toml): finished with status 'done'\n",
      "Collecting faiss-cpu\n",
      "  Using cached faiss_cpu-1.11.0-cp311-cp311-win_amd64.whl.metadata (5.0 kB)\n",
      "Requirement already satisfied: beautifulsoup4 in d:\\langchain_models\\venv_genai\\lib\\site-packages (from wikipedia) (4.13.4)\n",
      "Requirement already satisfied: requests<3.0.0,>=2.0.0 in d:\\langchain_models\\venv_genai\\lib\\site-packages (from wikipedia) (2.32.3)\n",
      "Requirement already satisfied: charset-normalizer<4,>=2 in d:\\langchain_models\\venv_genai\\lib\\site-packages (from requests<3.0.0,>=2.0.0->wikipedia) (3.4.2)\n",
      "Requirement already satisfied: idna<4,>=2.5 in d:\\langchain_models\\venv_genai\\lib\\site-packages (from requests<3.0.0,>=2.0.0->wikipedia) (3.10)\n",
      "Requirement already satisfied: urllib3<3,>=1.21.1 in d:\\langchain_models\\venv_genai\\lib\\site-packages (from requests<3.0.0,>=2.0.0->wikipedia) (2.4.0)\n",
      "Requirement already satisfied: certifi>=2017.4.17 in d:\\langchain_models\\venv_genai\\lib\\site-packages (from requests<3.0.0,>=2.0.0->wikipedia) (2025.4.26)\n",
      "Requirement already satisfied: numpy<3.0,>=1.25.0 in d:\\langchain_models\\venv_genai\\lib\\site-packages (from faiss-cpu) (2.2.6)\n",
      "Requirement already satisfied: packaging in d:\\langchain_models\\venv_genai\\lib\\site-packages (from faiss-cpu) (24.2)\n",
      "Requirement already satisfied: soupsieve>1.2 in d:\\langchain_models\\venv_genai\\lib\\site-packages (from beautifulsoup4->wikipedia) (2.7)\n",
      "Requirement already satisfied: typing-extensions>=4.0.0 in d:\\langchain_models\\venv_genai\\lib\\site-packages (from beautifulsoup4->wikipedia) (4.13.2)\n",
      "Downloading faiss_cpu-1.11.0-cp311-cp311-win_amd64.whl (15.0 MB)\n",
      "   ---------------------------------------- 0.0/15.0 MB ? eta -:--:--\n",
      "   ---------------------------------------- 0.0/15.0 MB ? eta -:--:--\n",
      "   ---------------------------------------- 0.0/15.0 MB ? eta -:--:--\n",
      "    --------------------------------------- 0.3/15.0 MB ? eta -:--:--\n",
      "   - -------------------------------------- 0.5/15.0 MB 1.9 MB/s eta 0:00:08\n",
      "   -- ------------------------------------- 0.8/15.0 MB 1.5 MB/s eta 0:00:10\n",
      "   -- ------------------------------------- 0.8/15.0 MB 1.5 MB/s eta 0:00:10\n",
      "   -- ------------------------------------- 0.8/15.0 MB 1.5 MB/s eta 0:00:10\n",
      "   -- ------------------------------------- 1.0/15.0 MB 825.2 kB/s eta 0:00:17\n",
      "   --- ------------------------------------ 1.3/15.0 MB 838.9 kB/s eta 0:00:17\n",
      "   --- ------------------------------------ 1.3/15.0 MB 838.9 kB/s eta 0:00:17\n",
      "   ---- ----------------------------------- 1.6/15.0 MB 777.0 kB/s eta 0:00:18\n",
      "   ---- ----------------------------------- 1.6/15.0 MB 777.0 kB/s eta 0:00:18\n",
      "   ---- ----------------------------------- 1.6/15.0 MB 777.0 kB/s eta 0:00:18\n",
      "   ---- ----------------------------------- 1.8/15.0 MB 680.3 kB/s eta 0:00:20\n",
      "   ---- ----------------------------------- 1.8/15.0 MB 680.3 kB/s eta 0:00:20\n",
      "   ----- ---------------------------------- 2.1/15.0 MB 699.0 kB/s eta 0:00:19\n",
      "   ----- ---------------------------------- 2.1/15.0 MB 699.0 kB/s eta 0:00:19\n",
      "   ------ --------------------------------- 2.4/15.0 MB 691.9 kB/s eta 0:00:19\n",
      "   ------ --------------------------------- 2.6/15.0 MB 702.4 kB/s eta 0:00:18\n",
      "   ------ --------------------------------- 2.6/15.0 MB 702.4 kB/s eta 0:00:18\n",
      "   -------- ------------------------------- 3.1/15.0 MB 756.4 kB/s eta 0:00:16\n",
      "   -------- ------------------------------- 3.1/15.0 MB 756.4 kB/s eta 0:00:16\n",
      "   --------- ------------------------------ 3.4/15.0 MB 771.4 kB/s eta 0:00:16\n",
      "   --------- ------------------------------ 3.4/15.0 MB 771.4 kB/s eta 0:00:16\n",
      "   --------- ------------------------------ 3.7/15.0 MB 742.0 kB/s eta 0:00:16\n",
      "   --------- ------------------------------ 3.7/15.0 MB 742.0 kB/s eta 0:00:16\n",
      "   ---------- ----------------------------- 3.9/15.0 MB 727.3 kB/s eta 0:00:16\n",
      "   ----------- ---------------------------- 4.2/15.0 MB 749.0 kB/s eta 0:00:15\n",
      "   ----------- ---------------------------- 4.5/15.0 MB 762.6 kB/s eta 0:00:14\n",
      "   ----------- ---------------------------- 4.5/15.0 MB 762.6 kB/s eta 0:00:14\n",
      "   ------------ --------------------------- 4.7/15.0 MB 758.5 kB/s eta 0:00:14\n",
      "   ------------- -------------------------- 5.0/15.0 MB 782.4 kB/s eta 0:00:13\n",
      "   ------------- -------------------------- 5.0/15.0 MB 782.4 kB/s eta 0:00:13\n",
      "   ------------- -------------------------- 5.2/15.0 MB 766.3 kB/s eta 0:00:13\n",
      "   -------------- ------------------------- 5.5/15.0 MB 771.5 kB/s eta 0:00:13\n",
      "   -------------- ------------------------- 5.5/15.0 MB 771.5 kB/s eta 0:00:13\n",
      "   --------------- ------------------------ 5.8/15.0 MB 769.3 kB/s eta 0:00:13\n",
      "   --------------- ------------------------ 5.8/15.0 MB 769.3 kB/s eta 0:00:13\n",
      "   --------------- ------------------------ 5.8/15.0 MB 769.3 kB/s eta 0:00:13\n",
      "   ---------------- ----------------------- 6.0/15.0 MB 750.2 kB/s eta 0:00:12\n",
      "   ---------------- ----------------------- 6.3/15.0 MB 756.7 kB/s eta 0:00:12\n",
      "   ----------------- ---------------------- 6.6/15.0 MB 767.0 kB/s eta 0:00:12\n",
      "   ------------------ --------------------- 6.8/15.0 MB 776.8 kB/s eta 0:00:11\n",
      "   ------------------ --------------------- 6.8/15.0 MB 776.8 kB/s eta 0:00:11\n",
      "   ------------------ --------------------- 7.1/15.0 MB 778.9 kB/s eta 0:00:11\n",
      "   ------------------ --------------------- 7.1/15.0 MB 778.9 kB/s eta 0:00:11\n",
      "   ------------------- -------------------- 7.3/15.0 MB 774.4 kB/s eta 0:00:10\n",
      "   -------------------- ------------------- 7.6/15.0 MB 779.1 kB/s eta 0:00:10\n",
      "   -------------------- ------------------- 7.6/15.0 MB 779.1 kB/s eta 0:00:10\n",
      "   -------------------- ------------------- 7.6/15.0 MB 779.1 kB/s eta 0:00:10\n",
      "   -------------------- ------------------- 7.9/15.0 MB 762.7 kB/s eta 0:00:10\n",
      "   --------------------- ------------------ 8.1/15.0 MB 773.2 kB/s eta 0:00:09\n",
      "   ---------------------- ----------------- 8.4/15.0 MB 775.1 kB/s eta 0:00:09\n",
      "   ---------------------- ----------------- 8.4/15.0 MB 775.1 kB/s eta 0:00:09\n",
      "   ----------------------- ---------------- 8.7/15.0 MB 764.8 kB/s eta 0:00:09\n",
      "   ----------------------- ---------------- 8.7/15.0 MB 764.8 kB/s eta 0:00:09\n",
      "   ----------------------- ---------------- 8.9/15.0 MB 769.0 kB/s eta 0:00:08\n",
      "   ------------------------ --------------- 9.2/15.0 MB 779.3 kB/s eta 0:00:08\n",
      "   ------------------------ --------------- 9.2/15.0 MB 779.3 kB/s eta 0:00:08\n",
      "   ------------------------- -------------- 9.4/15.0 MB 774.7 kB/s eta 0:00:08\n",
      "   ------------------------- -------------- 9.7/15.0 MB 778.3 kB/s eta 0:00:07\n",
      "   -------------------------- ------------- 10.0/15.0 MB 780.9 kB/s eta 0:00:07\n",
      "   -------------------------- ------------- 10.0/15.0 MB 780.9 kB/s eta 0:00:07\n",
      "   --------------------------- ------------ 10.2/15.0 MB 784.2 kB/s eta 0:00:07\n",
      "   --------------------------- ------------ 10.5/15.0 MB 780.8 kB/s eta 0:00:06\n",
      "   --------------------------- ------------ 10.5/15.0 MB 780.8 kB/s eta 0:00:06\n",
      "   --------------------------- ------------ 10.5/15.0 MB 780.8 kB/s eta 0:00:06\n",
      "   ---------------------------- ----------- 10.7/15.0 MB 772.3 kB/s eta 0:00:06\n",
      "   ---------------------------- ----------- 10.7/15.0 MB 772.3 kB/s eta 0:00:06\n",
      "   ----------------------------- ---------- 11.0/15.0 MB 769.5 kB/s eta 0:00:06\n",
      "   ----------------------------- ---------- 11.0/15.0 MB 769.5 kB/s eta 0:00:06\n",
      "   ------------------------------ --------- 11.3/15.0 MB 764.3 kB/s eta 0:00:05\n",
      "   ------------------------------ --------- 11.3/15.0 MB 764.3 kB/s eta 0:00:05\n",
      "   ------------------------------ --------- 11.5/15.0 MB 754.6 kB/s eta 0:00:05\n",
      "   ------------------------------ --------- 11.5/15.0 MB 754.6 kB/s eta 0:00:05\n",
      "   ------------------------------ --------- 11.5/15.0 MB 754.6 kB/s eta 0:00:05\n",
      "   ------------------------------ --------- 11.5/15.0 MB 754.6 kB/s eta 0:00:05\n",
      "   ------------------------------- -------- 11.8/15.0 MB 736.0 kB/s eta 0:00:05\n",
      "   ------------------------------- -------- 11.8/15.0 MB 736.0 kB/s eta 0:00:05\n",
      "   -------------------------------- ------- 12.1/15.0 MB 733.0 kB/s eta 0:00:05\n",
      "   -------------------------------- ------- 12.1/15.0 MB 733.0 kB/s eta 0:00:05\n",
      "   -------------------------------- ------- 12.3/15.0 MB 727.4 kB/s eta 0:00:04\n",
      "   --------------------------------- ------ 12.6/15.0 MB 734.2 kB/s eta 0:00:04\n",
      "   --------------------------------- ------ 12.6/15.0 MB 734.2 kB/s eta 0:00:04\n",
      "   ---------------------------------- ----- 12.8/15.0 MB 731.4 kB/s eta 0:00:03\n",
      "   ---------------------------------- ----- 13.1/15.0 MB 736.0 kB/s eta 0:00:03\n",
      "   ---------------------------------- ----- 13.1/15.0 MB 736.0 kB/s eta 0:00:03\n",
      "   ----------------------------------- ---- 13.4/15.0 MB 736.5 kB/s eta 0:00:03\n",
      "   ------------------------------------ --- 13.6/15.0 MB 739.5 kB/s eta 0:00:02\n",
      "   ------------------------------------- -- 13.9/15.0 MB 743.8 kB/s eta 0:00:02\n",
      "   ------------------------------------- -- 13.9/15.0 MB 743.8 kB/s eta 0:00:02\n",
      "   ------------------------------------- -- 14.2/15.0 MB 742.3 kB/s eta 0:00:02\n",
      "   -------------------------------------- - 14.4/15.0 MB 744.5 kB/s eta 0:00:01\n",
      "   -------------------------------------- - 14.4/15.0 MB 744.5 kB/s eta 0:00:01\n",
      "   ---------------------------------------  14.7/15.0 MB 742.4 kB/s eta 0:00:01\n",
      "   ---------------------------------------  14.7/15.0 MB 742.4 kB/s eta 0:00:01\n",
      "   ---------------------------------------  14.7/15.0 MB 742.4 kB/s eta 0:00:01\n",
      "   ---------------------------------------- 15.0/15.0 MB 735.4 kB/s eta 0:00:00\n",
      "Building wheels for collected packages: wikipedia\n",
      "  Building wheel for wikipedia (pyproject.toml): started\n",
      "  Building wheel for wikipedia (pyproject.toml): finished with status 'done'\n",
      "  Created wheel for wikipedia: filename=wikipedia-1.4.0-py3-none-any.whl size=11785 sha256=0bdc0d70fb5838cbb1f2a3ccb3ab4fe38978344d992296b32a2c0945d05e66b5\n",
      "  Stored in directory: c:\\users\\anirban\\appdata\\local\\pip\\cache\\wheels\\8f\\ab\\cb\\45ccc40522d3a1c41e1d2ad53b8f33a62f394011ec38cd71c6\n",
      "Successfully built wikipedia\n",
      "Installing collected packages: faiss-cpu, wikipedia\n",
      "\n",
      "   ---------------------------------------- 0/2 [faiss-cpu]\n",
      "   ---------------------------------------- 0/2 [faiss-cpu]\n",
      "   ---------------------------------------- 0/2 [faiss-cpu]\n",
      "   ---------------------------------------- 0/2 [faiss-cpu]\n",
      "   ---------------------------------------- 0/2 [faiss-cpu]\n",
      "   ---------------------------------------- 0/2 [faiss-cpu]\n",
      "   ---------------------------------------- 0/2 [faiss-cpu]\n",
      "   ---------------------------------------- 0/2 [faiss-cpu]\n",
      "   ---------------------------------------- 0/2 [faiss-cpu]\n",
      "   ---------------------------------------- 2/2 [wikipedia]\n",
      "\n",
      "Successfully installed faiss-cpu-1.11.0 wikipedia-1.4.0\n"
     ]
    }
   ],
   "source": [
    "! pip install wikipedia faiss-cpu"
   ]
  },
  {
   "cell_type": "code",
   "execution_count": 27,
   "metadata": {},
   "outputs": [],
   "source": [
    "from langchain_community.retrievers import WikipediaRetriever\n",
    "\n",
    "retriever=WikipediaRetriever(top_k_results=2,lang=\"en\")"
   ]
  },
  {
   "cell_type": "code",
   "execution_count": 30,
   "metadata": {},
   "outputs": [
    {
     "name": "stderr",
     "output_type": "stream",
     "text": [
      "d:\\Langchain_models\\venv_genai\\Lib\\site-packages\\wikipedia\\wikipedia.py:389: GuessedAtParserWarning: No parser was explicitly specified, so I'm using the best available HTML parser for this system (\"html.parser\"). This usually isn't a problem, but if you run this code on another system, or in a different virtual environment, it may use a different parser and behave differently.\n",
      "\n",
      "The code that caused this warning is on line 389 of the file d:\\Langchain_models\\venv_genai\\Lib\\site-packages\\wikipedia\\wikipedia.py. To get rid of this warning, pass the additional argument 'features=\"html.parser\"' to the BeautifulSoup constructor.\n",
      "\n",
      "  lis = BeautifulSoup(html).find_all('li')\n"
     ]
    },
    {
     "name": "stdout",
     "output_type": "stream",
     "text": [
      "Cristiano Ronaldo dos Santos Aveiro (Portuguese pronunciation: [kɾiʃˈtjɐnu ʁɔˈnaldu] ; born 5 February 1985) is a Portuguese professional footballer who plays as a forward for and captains both Saudi Pro League club Al-Nassr and the Portugal national team. Nicknamed CR7, he is widely regarded as one of the greatest players in history, and has won numerous individual accolades throughout his professional footballing career, including five Ballon d'Or awards, a record three UEFA Men's Player of the Year Awards, four European Golden Shoes, and was named five times the world's best player by FIFA. He has won 34 trophies in his career, including seven league titles, five UEFA Champions Leagues and the UEFA European Championship. Ronaldo holds the records for most goals (140) and assists (42) in the Champions League, goals (14) and assists (8) in the European Championship, and most international appearances (221) and international goals (138). He is one of the few players to have made over 1,200 professional career appearances, the most by an outfield player, and has scored over 900 official senior career goals for club and country, making him the top goalscorer of all time.\n",
      "Ronaldo began his senior career with Sporting CP, before signing with Manchester United in 2003, winning the FA Cup in his first season. He went on to become a star player at United, as they won three consecutive Premier League titles, the Champions League and the FIFA Club World Cup; his 2007–08 season earned him his first Ballon d'Or, aged 23. Ronaldo was the subject of the then-most expensive association football transfer when he signed for Real Madrid in 2009 in a transfer worth €94 million (£80 million). He was integral to Madrid becoming a dominant force again, as they won four Champions Leagues from 2014 to 2018, including La Décima. He won back-to-back Ballon d'Or awards in 2013 and 2014, and again in 2016 and 2017, and was runner-up three times behind Lionel Messi, his perceived career rival. He also became the club's all-time top goalscorer and finished as the Champions League's top scorer for six consecutive seasons between 2012 and 2018. With Madrid, Ronaldo's additional titles include two La Liga titles, including a record-breaking title win in 2011-12, and two Copas del Rey. In 2018, following issues with the Madrid hierarchy, Ronaldo made a surprise transfer to Juventus in a transfer worth an initial €100 million (£88 million). He won several trophies in Italy, including two Serie A titles and a Coppa Italia, and broke several records for Juventus. He returned to United in 2021; despite a collectively disappointing season, Ronaldo's individual performances earned him being included in the PFA Team of the Year at 37 years old. His contract was terminated in 2022 due to a fall out with the newly appointed manager, and in 2023 he signed for Al-Nassr, a move that has since been widely credited for revolutionising football in Saudi Arabia.\n",
      "Ronaldo made his international debut for Portugal in 2003 at the age of 18 and has earned more than 200 caps, making him history's most-capped male player. Ronaldo has played in eleven major tournaments and scored in ten; he scored his first international goal at Euro 2004, where he helped Portugal reach the final and subsequently made the team of the tournament. In the 2006 FIFA World Cup, his first World Cup, he was a focal part to Portugal ultimately finishing in fourth place. He assumed captaincy of the national team in July 2008 ahead of Euro 2008; four years later, at Euro 2012, he was named to the team of the tournament. In 2015, Ronaldo was named the best Portuguese player of all time by the Portuguese Football Federation. The following year, he led Portugal to their first major tournament title at Euro 2016, being named in the team of the tournament for the third time and receiving the Silver Boot as the second-highest goalscorer of the tournament. This achievement saw him receive his fourth Ballon d'Or. In \n"
     ]
    }
   ],
   "source": [
    "from langchain_community.document_loaders import WikipediaLoader\n",
    "\n",
    "loader = WikipediaLoader(query=\"Cristiano Ronaldo\", lang=\"en\")\n",
    "docs = loader.load()\n",
    "\n",
    "print(docs[0].page_content)"
   ]
  },
  {
   "cell_type": "code",
   "execution_count": 31,
   "metadata": {},
   "outputs": [],
   "source": [
    "from langchain_community.retrievers import WikipediaRetriever\n",
    "retriever = WikipediaRetriever(top_k_results=2, lang=\"en\")\n",
    "query = \"the geopolitical history of india and pakistan from the perspective of a chinese\"\n",
    "\n",
    "# Get relevant Wikipedia documents\n",
    "docs = retriever.invoke(query)"
   ]
  },
  {
   "cell_type": "code",
   "execution_count": 32,
   "metadata": {},
   "outputs": [
    {
     "data": {
      "text/plain": [
       "[Document(metadata={'title': 'Dominion of Pakistan', 'summary': 'The Dominion of Pakistan, officially Pakistan, was an independent federal dominion in the British Commonwealth of Nations, which existed from 14 August 1947 to 23 March 1956. It was created by the passing of the Indian Independence Act 1947 by the British parliament, which also created an independent Dominion of India.\\nThe new dominion consisted of those presidencies and provinces of British India which were allocated to it in the Partition of India. Until 1947, these regions had been ruled by the United Kingdom as a part of the British Empire.\\nIts status as a federal dominion within the British Empire ended in 1956 with the completion of the Constitution of Pakistan, which established the country as a republic. The constitution also administratively split the nation into West Pakistan and East Pakistan. Until then, these provinces had been governed as a singular entity, despite being separate geographic exclaves. Eventually, the East became Bangladesh and the West became Pakistan.\\nDuring the year that followed its independence, the new country was joined by the princely states of Pakistan, which were ruled by princes who had previously been in subsidiary alliances with the British. These states acceded to Pakistan one by one as their rulers signed Instruments of Accession. For many years, these states enjoyed a special status within the dominion and later the republic, but they were slowly incorporated into the provinces. The last remnants of their internal self-government were lost by 1974.', 'source': 'https://en.wikipedia.org/wiki/Dominion_of_Pakistan'}, page_content='The Dominion of Pakistan, officially Pakistan, was an independent federal dominion in the British Commonwealth of Nations, which existed from 14 August 1947 to 23 March 1956. It was created by the passing of the Indian Independence Act 1947 by the British parliament, which also created an independent Dominion of India.\\nThe new dominion consisted of those presidencies and provinces of British India which were allocated to it in the Partition of India. Until 1947, these regions had been ruled by the United Kingdom as a part of the British Empire.\\nIts status as a federal dominion within the British Empire ended in 1956 with the completion of the Constitution of Pakistan, which established the country as a republic. The constitution also administratively split the nation into West Pakistan and East Pakistan. Until then, these provinces had been governed as a singular entity, despite being separate geographic exclaves. Eventually, the East became Bangladesh and the West became Pakistan.\\nDuring the year that followed its independence, the new country was joined by the princely states of Pakistan, which were ruled by princes who had previously been in subsidiary alliances with the British. These states acceded to Pakistan one by one as their rulers signed Instruments of Accession. For many years, these states enjoyed a special status within the dominion and later the republic, but they were slowly incorporated into the provinces. The last remnants of their internal self-government were lost by 1974.\\n\\n\\n== History ==\\n\\n\\n=== Partition and independence ===\\n\\nSection 1 of the Indian Independence Act 1947 provided that from \"the fifteenth day of August, nineteen hundred and forty-seven, two independent dominions shall be set up in India, to be known respectively as India and Pakistan.\"  Muslims had been pushing for their own state since at least 1940 (see the Lahore resolution), believing they would become second-class citizens in a Hindu-majority India otherwise. The British monarch became the head of state of both the new dominions, with Pakistan sharing a king with the United Kingdom and the other dominions of the British Commonwealth, and the monarch\\'s constitutional roles in Pakistan were delegated to the Governor-General of Pakistan.\\nBefore August 1947, about half of the area of present-day Pakistan was part of British India, which was directly governed by the British in the name of the British Crown, while the remainder were princely states in subsidiary alliances with the British, enjoying semi-autonomous self-government. The British abandoned these alliances in August 1947, leaving the states entirely independent, and between 1947 and 1948 the states all acceded to Pakistan, while retaining internal self-government for several years.\\nMore than ten million people migrated across the new borders and between 200,000 and 2,000,000 people died in the spate of communal violence in the Punjab in what some scholars have described as a \\'retributive genocide\\' between the religions. The Pakistani government claimed that 50,000 Muslim women were abducted and raped by Hindu and Sikh men and similarly the Indian government claimed that Muslims abducted and raped 33,000 Hindu and Sikh women. The two governments agreed to repatriate abducted women and thousands of Hindu, Sikh and Muslim women were repatriated to their families in the 1950s. The dispute over Kashmir escalated into the first war between India and Pakistan. With the assistance of the United Nations (UN) the war was ended but it became the Kashmir dispute, unresolved as of 2024.\\n\\nIn 1947, the founding fathers of Pakistan agreed to appoint Liaquat Ali Khan as the country\\'s first prime minister, with Muhammad Ali Jinnah as both first governor-general and speaker of the State Parliament. Mountbatten had offered to serve as Governor-general of both India and Pakistan but Jinnah refused this offer.\\nThe first formal step to transform Pakistan into an ideological Islamic state was taken in Ma'),\n",
       " Document(metadata={'title': 'China–India relations', 'summary': \"China and India maintained peaceful relations for thousands of years, but their relationship has varied since the Chinese Communist Party's victory in the Chinese Civil War in 1949 and the Annexation of Tibet by the People's Republic of China. The two nations have sought economic cooperation with each other, while frequent border disputes and economic nationalism in both countries are major points of contention.\\nCultural and economic relations between China and India date back to ancient times. The Silk Road not only served as a major trade route between India and China, but is also credited for facilitating the spread of Buddhism from India to East Asia. During the 19th century, China was involved in a growing opium trade with the East India Company, which exported opium grown in India. During World War II, both British India and the Republic of China (ROC) played a crucial role in halting the progress of Imperial Japan. After India became independent in 1947, it established relations with the ROC. The modern Sino-Indian diplomatic relationship began in 1950, when India was among the first noncommunist countries to end formal relations with the Republic of China and recognise the PRC as the legitimate government of both Mainland China and Taiwan. China and India are two of the major regional powers in Asia, and are the two most populous countries and among the fastest growing major economies in the world.\\nGrowth in diplomatic and economic influence has increased the significance of their bilateral relationship. Between 2008 and 2021, China has been India's largest trading partner, and the two countries have also extended their strategic and military relations. However, conflict of interest leads to hostility. India has a large trade deficit that is favoured towards China. The two countries failed to resolve their border dispute and Indian media outlets have repeatedly reported Chinese military incursions into Indian territory. And relations between contemporary China and India have been characterised by border disputes, resulting in three military conflicts – the Sino-Indian War of 1962, the border clashes in Nathu La and Cho La in 1967, and the 1987 Sumdorong Chu standoff. Since the late 1980s, both countries have successfully rebuilt diplomatic and economic ties. \\nSince 2013, border disputes have reemerged to take centre stage in the two countries' mutual relations. In early 2018, the two armies got engaged in a standoff at the Doklam plateau along the disputed Bhutan-China border. Since summer 2020, armed standoffs and skirmishes at multiple locations along the entire Sino-Indian border escalated. A serious clash occurred in the Galwan Valley, resulting in the death of 20 Indian soldiers and many Chinese soldiers. Both countries have steadily established military infrastructure along border areas, including amidst the 2020 China–India skirmishes. Additionally, India remains wary about China's strong strategic bilateral relations with Pakistan, and China's relations to separatist groups in Northeast India, while China has expressed concerns about Indian military and economic activities in the disputed South China Sea as well as hosting of anti-China activity from Tibetan exiles. Today, the South Asian region is the premier site of intensified great power competition between China and India.\", 'source': 'https://en.wikipedia.org/wiki/China%E2%80%93India_relations'}, page_content='China and India maintained peaceful relations for thousands of years, but their relationship has varied since the Chinese Communist Party\\'s victory in the Chinese Civil War in 1949 and the Annexation of Tibet by the People\\'s Republic of China. The two nations have sought economic cooperation with each other, while frequent border disputes and economic nationalism in both countries are major points of contention.\\nCultural and economic relations between China and India date back to ancient times. The Silk Road not only served as a major trade route between India and China, but is also credited for facilitating the spread of Buddhism from India to East Asia. During the 19th century, China was involved in a growing opium trade with the East India Company, which exported opium grown in India. During World War II, both British India and the Republic of China (ROC) played a crucial role in halting the progress of Imperial Japan. After India became independent in 1947, it established relations with the ROC. The modern Sino-Indian diplomatic relationship began in 1950, when India was among the first noncommunist countries to end formal relations with the Republic of China and recognise the PRC as the legitimate government of both Mainland China and Taiwan. China and India are two of the major regional powers in Asia, and are the two most populous countries and among the fastest growing major economies in the world.\\nGrowth in diplomatic and economic influence has increased the significance of their bilateral relationship. Between 2008 and 2021, China has been India\\'s largest trading partner, and the two countries have also extended their strategic and military relations. However, conflict of interest leads to hostility. India has a large trade deficit that is favoured towards China. The two countries failed to resolve their border dispute and Indian media outlets have repeatedly reported Chinese military incursions into Indian territory. And relations between contemporary China and India have been characterised by border disputes, resulting in three military conflicts – the Sino-Indian War of 1962, the border clashes in Nathu La and Cho La in 1967, and the 1987 Sumdorong Chu standoff. Since the late 1980s, both countries have successfully rebuilt diplomatic and economic ties. \\nSince 2013, border disputes have reemerged to take centre stage in the two countries\\' mutual relations. In early 2018, the two armies got engaged in a standoff at the Doklam plateau along the disputed Bhutan-China border. Since summer 2020, armed standoffs and skirmishes at multiple locations along the entire Sino-Indian border escalated. A serious clash occurred in the Galwan Valley, resulting in the death of 20 Indian soldiers and many Chinese soldiers. Both countries have steadily established military infrastructure along border areas, including amidst the 2020 China–India skirmishes. Additionally, India remains wary about China\\'s strong strategic bilateral relations with Pakistan, and China\\'s relations to separatist groups in Northeast India, while China has expressed concerns about Indian military and economic activities in the disputed South China Sea as well as hosting of anti-China activity from Tibetan exiles. Today, the South Asian region is the premier site of intensified great power competition between China and India.\\n\\n\\n== Geopolitical overview ==\\n\\nThe China–India border straddles the Himalayas, with Nepal and Bhutan acting as buffer states. Parts of the disputed Kashmir region claimed by India (J&K and Ladakh) are claimed and administered by either Pakistan (Azad Kashmir and Gilgit Baltistan) or by the PRC (Aksai Chin). The Government of Pakistan, on its maps, shows the Aksai Chin area as mostly within China and labels the boundary \"Frontier Undefined\", while India holds that Aksai Chin is illegally occupied by the PRC. China and India also dispute most of Arunachal Pradesh.\\nNot only is China\\'s India policy shaped by greater competition with the Unit')]"
      ]
     },
     "execution_count": 32,
     "metadata": {},
     "output_type": "execute_result"
    }
   ],
   "source": [
    "docs"
   ]
  },
  {
   "cell_type": "code",
   "execution_count": 33,
   "metadata": {},
   "outputs": [
    {
     "name": "stdout",
     "output_type": "stream",
     "text": [
      "\n",
      "--- Result1 ---\n",
      "Content:\n",
      "The Dominion of Pakistan, officially Pakistan, was an independent federal dominion in the British Commonwealth of Nations, which existed from 14 August 1947 to 23 March 1956. It was created by the passing of the Indian Independence Act 1947 by the British parliament, which also created an independent Dominion of India.\n",
      "The new dominion consisted of those presidencies and provinces of British India which were allocated to it in the Partition of India. Until 1947, these regions had been ruled by the United Kingdom as a part of the British Empire.\n",
      "Its status as a federal dominion within the British Empire ended in 1956 with the completion of the Constitution of Pakistan, which established the country as a republic. The constitution also administratively split the nation into West Pakistan and East Pakistan. Until then, these provinces had been governed as a singular entity, despite being separate geographic exclaves. Eventually, the East became Bangladesh and the West became Pakistan.\n",
      "During the year that followed its independence, the new country was joined by the princely states of Pakistan, which were ruled by princes who had previously been in subsidiary alliances with the British. These states acceded to Pakistan one by one as their rulers signed Instruments of Accession. For many years, these states enjoyed a special status within the dominion and later the republic, but they were slowly incorporated into the provinces. The last remnants of their internal self-government were lost by 1974.\n",
      "\n",
      "\n",
      "== History ==\n",
      "\n",
      "\n",
      "=== Partition and independence ===\n",
      "\n",
      "Section 1 of the Indian Independence Act 1947 provided that from \"the fifteenth day of August, nineteen hundred and forty-seven, two independent dominions shall be set up in India, to be known respectively as India and Pakistan.\"  Muslims had been pushing for their own state since at least 1940 (see the Lahore resolution), believing they would become second-class citizens in a Hindu-majority India otherwise. The British monarch became the head of state of both the new dominions, with Pakistan sharing a king with the United Kingdom and the other dominions of the British Commonwealth, and the monarch's constitutional roles in Pakistan were delegated to the Governor-General of Pakistan.\n",
      "Before August 1947, about half of the area of present-day Pakistan was part of British India, which was directly governed by the British in the name of the British Crown, while the remainder were princely states in subsidiary alliances with the British, enjoying semi-autonomous self-government. The British abandoned these alliances in August 1947, leaving the states entirely independent, and between 1947 and 1948 the states all acceded to Pakistan, while retaining internal self-government for several years.\n",
      "More than ten million people migrated across the new borders and between 200,000 and 2,000,000 people died in the spate of communal violence in the Punjab in what some scholars have described as a 'retributive genocide' between the religions. The Pakistani government claimed that 50,000 Muslim women were abducted and raped by Hindu and Sikh men and similarly the Indian government claimed that Muslims abducted and raped 33,000 Hindu and Sikh women. The two governments agreed to repatriate abducted women and thousands of Hindu, Sikh and Muslim women were repatriated to their families in the 1950s. The dispute over Kashmir escalated into the first war between India and Pakistan. With the assistance of the United Nations (UN) the war was ended but it became the Kashmir dispute, unresolved as of 2024.\n",
      "\n",
      "In 1947, the founding fathers of Pakistan agreed to appoint Liaquat Ali Khan as the country's first prime minister, with Muhammad Ali Jinnah as both first governor-general and speaker of the State Parliament. Mountbatten had offered to serve as Governor-general of both India and Pakistan but Jinnah refused this offer.\n",
      "The first formal step to transform Pakistan into an ideological Islamic state was taken in Ma...\n",
      "\n",
      "--- Result2 ---\n",
      "Content:\n",
      "China and India maintained peaceful relations for thousands of years, but their relationship has varied since the Chinese Communist Party's victory in the Chinese Civil War in 1949 and the Annexation of Tibet by the People's Republic of China. The two nations have sought economic cooperation with each other, while frequent border disputes and economic nationalism in both countries are major points of contention.\n",
      "Cultural and economic relations between China and India date back to ancient times. The Silk Road not only served as a major trade route between India and China, but is also credited for facilitating the spread of Buddhism from India to East Asia. During the 19th century, China was involved in a growing opium trade with the East India Company, which exported opium grown in India. During World War II, both British India and the Republic of China (ROC) played a crucial role in halting the progress of Imperial Japan. After India became independent in 1947, it established relations with the ROC. The modern Sino-Indian diplomatic relationship began in 1950, when India was among the first noncommunist countries to end formal relations with the Republic of China and recognise the PRC as the legitimate government of both Mainland China and Taiwan. China and India are two of the major regional powers in Asia, and are the two most populous countries and among the fastest growing major economies in the world.\n",
      "Growth in diplomatic and economic influence has increased the significance of their bilateral relationship. Between 2008 and 2021, China has been India's largest trading partner, and the two countries have also extended their strategic and military relations. However, conflict of interest leads to hostility. India has a large trade deficit that is favoured towards China. The two countries failed to resolve their border dispute and Indian media outlets have repeatedly reported Chinese military incursions into Indian territory. And relations between contemporary China and India have been characterised by border disputes, resulting in three military conflicts – the Sino-Indian War of 1962, the border clashes in Nathu La and Cho La in 1967, and the 1987 Sumdorong Chu standoff. Since the late 1980s, both countries have successfully rebuilt diplomatic and economic ties. \n",
      "Since 2013, border disputes have reemerged to take centre stage in the two countries' mutual relations. In early 2018, the two armies got engaged in a standoff at the Doklam plateau along the disputed Bhutan-China border. Since summer 2020, armed standoffs and skirmishes at multiple locations along the entire Sino-Indian border escalated. A serious clash occurred in the Galwan Valley, resulting in the death of 20 Indian soldiers and many Chinese soldiers. Both countries have steadily established military infrastructure along border areas, including amidst the 2020 China–India skirmishes. Additionally, India remains wary about China's strong strategic bilateral relations with Pakistan, and China's relations to separatist groups in Northeast India, while China has expressed concerns about Indian military and economic activities in the disputed South China Sea as well as hosting of anti-China activity from Tibetan exiles. Today, the South Asian region is the premier site of intensified great power competition between China and India.\n",
      "\n",
      "\n",
      "== Geopolitical overview ==\n",
      "\n",
      "The China–India border straddles the Himalayas, with Nepal and Bhutan acting as buffer states. Parts of the disputed Kashmir region claimed by India (J&K and Ladakh) are claimed and administered by either Pakistan (Azad Kashmir and Gilgit Baltistan) or by the PRC (Aksai Chin). The Government of Pakistan, on its maps, shows the Aksai Chin area as mostly within China and labels the boundary \"Frontier Undefined\", while India holds that Aksai Chin is illegally occupied by the PRC. China and India also dispute most of Arunachal Pradesh.\n",
      "Not only is China's India policy shaped by greater competition with the Unit...\n"
     ]
    }
   ],
   "source": [
    "for i, doc in enumerate(docs):\n",
    "    print(f\"\\n--- Result{i+1} ---\")\n",
    "    print(f\"Content:\\n{doc.page_content}...\")"
   ]
  },
  {
   "cell_type": "markdown",
   "metadata": {},
   "source": [
    "## vector store retriever"
   ]
  },
  {
   "cell_type": "code",
   "execution_count": 3,
   "metadata": {},
   "outputs": [],
   "source": [
    "from langchain_community.vectorstores import Chroma\n",
    "from langchain_huggingface import HuggingFaceEmbeddings\n",
    "from langchain_core.documents import Document"
   ]
  },
  {
   "cell_type": "code",
   "execution_count": 35,
   "metadata": {},
   "outputs": [],
   "source": [
    "documents=[\n",
    "    Document(page_content='langchain help developers to build LLM applications easily.'),\n",
    "    Document(page_content='Chroma is a vector database optimised for LLM based search'),\n",
    "    Document(page_content='Embeddings convert text into high-dimensional vectors'),\n",
    "    Document(page_content='LLM foundation models can create embeddings once the text is provided. also, OpenAI is one of the bestperfoming in all of them'),\n",
    "]"
   ]
  },
  {
   "cell_type": "code",
   "execution_count": 36,
   "metadata": {},
   "outputs": [
    {
     "name": "stderr",
     "output_type": "stream",
     "text": [
      "d:\\Langchain_models\\venv_genai\\Lib\\site-packages\\tqdm\\auto.py:21: TqdmWarning: IProgress not found. Please update jupyter and ipywidgets. See https://ipywidgets.readthedocs.io/en/stable/user_install.html\n",
      "  from .autonotebook import tqdm as notebook_tqdm\n"
     ]
    }
   ],
   "source": [
    "\n",
    "\n",
    "embedding_model = HuggingFaceEmbeddings(model_name='sentence-transformers/all-MiniLM-L6-v2')"
   ]
  },
  {
   "cell_type": "code",
   "execution_count": 37,
   "metadata": {},
   "outputs": [],
   "source": [
    "vectorstore=Chroma.from_documents(\n",
    "    documents=documents,\n",
    "    embedding=embedding_model,\n",
    "    collection_name='my_collection'\n",
    ")"
   ]
  },
  {
   "cell_type": "code",
   "execution_count": 38,
   "metadata": {},
   "outputs": [],
   "source": [
    "retriever=vectorstore.as_retriever(search_kwargs={'k':2})"
   ]
  },
  {
   "cell_type": "code",
   "execution_count": 39,
   "metadata": {},
   "outputs": [],
   "source": [
    "query=\"why is chroma used?\"\n",
    "results=retriever.invoke(query)"
   ]
  },
  {
   "cell_type": "code",
   "execution_count": 40,
   "metadata": {},
   "outputs": [
    {
     "name": "stdout",
     "output_type": "stream",
     "text": [
      "\n",
      "--- results 1 ---\n",
      "Chroma is a vector database optimised for LLM based search\n",
      "\n",
      "--- results 2 ---\n",
      "langchain help developers to build LLM applications easily.\n"
     ]
    }
   ],
   "source": [
    "for i,doc in enumerate(results):\n",
    "    print(f\"\\n--- results {i+1} ---\")\n",
    "    print(doc.page_content)"
   ]
  },
  {
   "cell_type": "markdown",
   "metadata": {},
   "source": [
    "## Maximal Marginal Relevance (MMR)"
   ]
  },
  {
   "cell_type": "code",
   "execution_count": 4,
   "metadata": {},
   "outputs": [],
   "source": [
    "docs=[\n",
    "    Document(page_content=\"Langchain makes it easy to work with LLMs\"),\n",
    "    Document(page_content=\"langchain is used to build LLM applications\"),\n",
    "    Document(page_content='chroma is used to store and search document embeddings'),\n",
    "    Document(page_content=\"MMR helps us to get diverse results when doing similarity search\"),\n",
    "    Document(page_content=\"Langchain supports Chroma, FAISS, Pinecone and more other vector stores and databases\"),\n",
    "\n",
    "]"
   ]
  },
  {
   "cell_type": "code",
   "execution_count": 5,
   "metadata": {},
   "outputs": [
    {
     "name": "stderr",
     "output_type": "stream",
     "text": [
      "d:\\Langchain_models\\venv_genai\\Lib\\site-packages\\tqdm\\auto.py:21: TqdmWarning: IProgress not found. Please update jupyter and ipywidgets. See https://ipywidgets.readthedocs.io/en/stable/user_install.html\n",
      "  from .autonotebook import tqdm as notebook_tqdm\n"
     ]
    }
   ],
   "source": [
    "from  langchain_community.vectorstores import FAISS \n",
    "\n",
    "embedding_model = HuggingFaceEmbeddings(model_name='sentence-transformers/all-MiniLM-L6-v2')\n",
    "\n",
    "vectorstore=FAISS.from_documents(\n",
    "    documents=docs,\n",
    "    embedding=embedding_model\n",
    ")"
   ]
  },
  {
   "cell_type": "code",
   "execution_count": 6,
   "metadata": {},
   "outputs": [],
   "source": [
    "retriever= vectorstore.as_retriever(\n",
    "    search_type=\"mmr\",\n",
    "    search_kwargs={\"k\":3,\"lambda_mult\":1}\n",
    ")"
   ]
  },
  {
   "cell_type": "code",
   "execution_count": 7,
   "metadata": {},
   "outputs": [],
   "source": [
    "query=\"what is langchain?\"\n",
    "results=retriever.invoke(query)"
   ]
  },
  {
   "cell_type": "code",
   "execution_count": 8,
   "metadata": {},
   "outputs": [
    {
     "name": "stdout",
     "output_type": "stream",
     "text": [
      "\n",
      "--- results 1 ---\n",
      "langchain is used to build LLM applications\n",
      "\n",
      "--- results 2 ---\n",
      "Langchain supports Chroma, FAISS, Pinecone and more other vector stores and databases\n",
      "\n",
      "--- results 3 ---\n",
      "Langchain makes it easy to work with LLMs\n"
     ]
    }
   ],
   "source": [
    "for i, doc in enumerate(results):\n",
    "    print(f\"\\n--- results {i+1} ---\")\n",
    "    print(doc.page_content)\n",
    "    \n"
   ]
  }
 ],
 "metadata": {
  "kernelspec": {
   "display_name": "venv_genai",
   "language": "python",
   "name": "python3"
  },
  "language_info": {
   "codemirror_mode": {
    "name": "ipython",
    "version": 3
   },
   "file_extension": ".py",
   "mimetype": "text/x-python",
   "name": "python",
   "nbconvert_exporter": "python",
   "pygments_lexer": "ipython3",
   "version": "3.11.7"
  }
 },
 "nbformat": 4,
 "nbformat_minor": 2
}
